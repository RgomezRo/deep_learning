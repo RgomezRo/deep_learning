{
  "metadata": {
    "kernelspec": {
      "language": "python",
      "display_name": "Python 3",
      "name": "python3"
    },
    "language_info": {
      "name": "python",
      "version": "3.7.12",
      "mimetype": "text/x-python",
      "codemirror_mode": {
        "name": "ipython",
        "version": 3
      },
      "pygments_lexer": "ipython3",
      "nbconvert_exporter": "python",
      "file_extension": ".py"
    },
    "colab": {
      "name": "cnn_cifar10_tf2_v9.ipynb",
      "provenance": [],
      "include_colab_link": true
    }
  },
  "nbformat_minor": 0,
  "nbformat": 4,
  "cells": [
    {
      "cell_type": "markdown",
      "metadata": {
        "id": "view-in-github",
        "colab_type": "text"
      },
      "source": [
        "<a href=\"https://colab.research.google.com/github/RgomezRo/deep_learning/blob/main/Modelo%20ganador.ipynb\" target=\"_parent\"><img src=\"https://colab.research.google.com/assets/colab-badge.svg\" alt=\"Open In Colab\"/></a>"
      ]
    },
    {
      "cell_type": "markdown",
      "source": [
        "![Nuclio logo](https://nuclio.school/wp-content/uploads/2018/12/nucleoDS-newBlack.png)"
      ],
      "metadata": {
        "id": "dWY7kSPW9oJm"
      }
    },
    {
      "cell_type": "markdown",
      "source": [
        "## 1. Librerias & Google Drive\n",
        "\n",
        "Para empezar carguemos esas librerias que nos hacen falta"
      ],
      "metadata": {
        "id": "e5awq5ZU9oJn",
        "tags": []
      }
    },
    {
      "cell_type": "code",
      "source": [
        "from tensorflow import keras as ks\n",
        "from matplotlib import pyplot as plt\n",
        "import numpy as np\n",
        "import time\n",
        "import datetime"
      ],
      "metadata": {
        "id": "6e89W2u_9oJo",
        "execution": {
          "iopub.status.busy": "2022-05-06T08:41:14.464433Z",
          "iopub.execute_input": "2022-05-06T08:41:14.464978Z",
          "iopub.status.idle": "2022-05-06T08:41:14.469002Z",
          "shell.execute_reply.started": "2022-05-06T08:41:14.464937Z",
          "shell.execute_reply": "2022-05-06T08:41:14.468266Z"
        },
        "trusted": true
      },
      "execution_count": null,
      "outputs": []
    },
    {
      "cell_type": "markdown",
      "source": [
        "Incorporamos la carpeta de Google Drive para poder \"guardar\" nuestros modelos\n",
        "\n",
        "1. Abrir barra lateral de Carpeta\n",
        "2.  Hacer click en carpeta con logo de Google Drive\n"
      ],
      "metadata": {
        "id": "G9YqEs4v-hiO"
      }
    },
    {
      "cell_type": "code",
      "source": [
        "# Aquí iria el codigo para conectarse a Google Drive\n",
        "#from google.colab import drive\n",
        "#drive.mount('/content/drive')"
      ],
      "metadata": {
        "id": "DH4FxJRv_KLM",
        "execution": {
          "iopub.status.busy": "2022-05-06T08:41:14.482742Z",
          "iopub.execute_input": "2022-05-06T08:41:14.483251Z",
          "iopub.status.idle": "2022-05-06T08:41:14.487099Z",
          "shell.execute_reply.started": "2022-05-06T08:41:14.483219Z",
          "shell.execute_reply": "2022-05-06T08:41:14.486139Z"
        },
        "trusted": true
      },
      "execution_count": null,
      "outputs": []
    },
    {
      "cell_type": "markdown",
      "source": [
        "## 2. Arquitectura de red del modelo - Proyecto 0\n"
      ],
      "metadata": {
        "id": "6_dptlpJ9oJp"
      }
    },
    {
      "cell_type": "code",
      "source": [
        "model = ks.Sequential()\n",
        "\n",
        "model.add(ks.layers.Conv2D(32, (3,3), padding='same', activation= 'relu', input_shape=(32,32,3)))\n",
        "model.add(ks.layers.Dropout(0.3))\n",
        "model.add(ks.layers.Conv2D(32, (3,3), padding='same', activation= 'relu'))\n",
        "model.add(ks.layers.Dropout(0.3))\n",
        "model.add(ks.layers.Conv2D(32, (3,3), padding='same', activation= 'relu'))\n",
        "model.add(ks.layers.Dropout(0.3))\n",
        "\n",
        "model.add(ks.layers.Conv2D(32, (3,3), padding='same', activation= 'relu'))\n",
        "model.add(ks.layers.MaxPool2D((2,2)))\n",
        "model.add(ks.layers.Dropout(0.3))\n",
        "\n",
        "model.add(ks.layers.Conv2D(64, (3,3), padding='same', activation= 'relu'))\n",
        "model.add(ks.layers.Dropout(0.3))\n",
        "model.add(ks.layers.Conv2D(64, (3,3), padding='same', activation= 'relu'))\n",
        "model.add(ks.layers.Dropout(0.3))\n",
        "model.add(ks.layers.Conv2D(64, (3,3), padding='same', activation= 'relu'))\n",
        "model.add(ks.layers.MaxPool2D((2,2)))\n",
        "model.add(ks.layers.Dropout(0.3))\n",
        "\n",
        "model.add(ks.layers.Conv2D(128, (3,3), padding='same', activation= 'relu'))\n",
        "model.add(ks.layers.MaxPool2D((2,2)))\n",
        "model.add(ks.layers.Dropout(0.3))\n",
        "\n",
        "model.add(ks.layers.Flatten())\n",
        "model.add(ks.layers.Dense(128, activation='relu'))#clasificacion\n",
        "model.add(ks.layers.Dropout(0.3))\n",
        "\n",
        "model.add(ks.layers.Dense(10, activation='softmax'))\n"
      ],
      "metadata": {
        "id": "JoDemzDV9oJp",
        "execution": {
          "iopub.status.busy": "2022-05-06T08:41:14.517951Z",
          "iopub.execute_input": "2022-05-06T08:41:14.518264Z",
          "iopub.status.idle": "2022-05-06T08:41:14.657449Z",
          "shell.execute_reply.started": "2022-05-06T08:41:14.518233Z",
          "shell.execute_reply": "2022-05-06T08:41:14.656742Z"
        },
        "trusted": true
      },
      "execution_count": null,
      "outputs": []
    },
    {
      "cell_type": "markdown",
      "source": [
        "Para revisar un modelo, nos basta con llamar al método **.summary()** del modelo"
      ],
      "metadata": {
        "id": "rhpzEhLy9oJq"
      }
    },
    {
      "cell_type": "code",
      "source": [
        "model.summary()"
      ],
      "metadata": {
        "id": "QPzKurY89oJq",
        "execution": {
          "iopub.status.busy": "2022-05-06T08:41:14.659250Z",
          "iopub.execute_input": "2022-05-06T08:41:14.659511Z",
          "iopub.status.idle": "2022-05-06T08:41:14.677489Z",
          "shell.execute_reply.started": "2022-05-06T08:41:14.659476Z",
          "shell.execute_reply": "2022-05-06T08:41:14.676768Z"
        },
        "trusted": true
      },
      "execution_count": null,
      "outputs": []
    },
    {
      "cell_type": "markdown",
      "source": [
        "## 3. Optimizador, función error\n"
      ],
      "metadata": {
        "id": "Y6bEaf7l9oJq"
      }
    },
    {
      "cell_type": "code",
      "source": [
        "model.compile(  optimizer='Adam', \n",
        "              loss='sparse_categorical_crossentropy',\n",
        "              metrics=['accuracy'])"
      ],
      "metadata": {
        "id": "eDfwXObn9oJr",
        "execution": {
          "iopub.status.busy": "2022-05-06T08:41:14.678745Z",
          "iopub.execute_input": "2022-05-06T08:41:14.679078Z",
          "iopub.status.idle": "2022-05-06T08:41:14.691237Z",
          "shell.execute_reply.started": "2022-05-06T08:41:14.679037Z",
          "shell.execute_reply": "2022-05-06T08:41:14.690316Z"
        },
        "trusted": true
      },
      "execution_count": null,
      "outputs": []
    },
    {
      "cell_type": "markdown",
      "source": [
        "## 4. Preparamos los datos\n",
        "\n",
        "Cargamos los datos de CIFAR10 de los datasets directamente de las librerias de Keras. Estos ya estan dispuestos en train and test\n",
        "\n",
        "**Detalle importante:** \n",
        "> La red neuronal requiere que los inputs sean números reales, y lo haremos forzando la division de los valores de dentro de las matrices 28x28 (que tienen valoress del 0 al 255) por 255.0 (un real)"
      ],
      "metadata": {
        "id": "qHBg7wfE9oJr"
      }
    },
    {
      "cell_type": "code",
      "source": [
        "import ssl\n",
        "ssl._create_default_https_context = ssl._create_unverified_context\n",
        "  \n",
        "cifar10 = ks.datasets.cifar10\n",
        "\n",
        "(x_train, y_train), (x_test, y_test) = cifar10.load_data()\n",
        "\n",
        "x_train_scaled, x_test_scaled = x_train / 255.0, x_test / 255.0"
      ],
      "metadata": {
        "id": "9mZWEbQc9oJr",
        "execution": {
          "iopub.status.busy": "2022-05-06T08:41:14.693660Z",
          "iopub.execute_input": "2022-05-06T08:41:14.693988Z",
          "iopub.status.idle": "2022-05-06T08:41:15.939649Z",
          "shell.execute_reply.started": "2022-05-06T08:41:14.693949Z",
          "shell.execute_reply": "2022-05-06T08:41:15.938797Z"
        },
        "trusted": true
      },
      "execution_count": null,
      "outputs": []
    },
    {
      "cell_type": "code",
      "source": [
        "y_train_label = y_train\n",
        "\n",
        "y_test\n",
        "y_train"
      ],
      "metadata": {
        "id": "j8A9za5z9oJr",
        "execution": {
          "iopub.status.busy": "2022-05-06T08:41:15.940929Z",
          "iopub.execute_input": "2022-05-06T08:41:15.941210Z",
          "iopub.status.idle": "2022-05-06T08:41:15.947888Z",
          "shell.execute_reply.started": "2022-05-06T08:41:15.941172Z",
          "shell.execute_reply": "2022-05-06T08:41:15.946934Z"
        },
        "trusted": true
      },
      "execution_count": null,
      "outputs": []
    },
    {
      "cell_type": "markdown",
      "source": [
        "Obtenemos un array con todas las labels de CIFAR10"
      ],
      "metadata": {
        "id": "bQf1GueY9oJs"
      }
    },
    {
      "cell_type": "code",
      "source": [
        "cifar10_labels = [\n",
        "'airplane', # id 0\n",
        "'automobile',\n",
        "'bird',\n",
        "'cat',\n",
        "'deer',\n",
        "'dog',\n",
        "'frog',\n",
        "'horse',\n",
        "'ship',\n",
        "'truck',\n",
        "]\n",
        "\n",
        "print('Number of labels: %s' % len(cifar10_labels))"
      ],
      "metadata": {
        "id": "EJR1ydE99oJs",
        "execution": {
          "iopub.status.busy": "2022-05-06T08:41:15.949420Z",
          "iopub.execute_input": "2022-05-06T08:41:15.949917Z",
          "iopub.status.idle": "2022-05-06T08:41:15.956679Z",
          "shell.execute_reply.started": "2022-05-06T08:41:15.949873Z",
          "shell.execute_reply": "2022-05-06T08:41:15.955668Z"
        },
        "trusted": true
      },
      "execution_count": null,
      "outputs": []
    },
    {
      "cell_type": "markdown",
      "source": [
        "Pintemos una muestra de las imagenes del dataset CIFAR10, a ver si se parece en algo a lo que esperamos.\n",
        "Primero, vemos que tipos de datos tengo, después mapeamos esas matrices en una escala de grises utilizando el método **.get_cmap()** de PlotLy con los nueve primeros números del dataset."
      ],
      "metadata": {
        "id": "61GhgQs49oJs"
      }
    },
    {
      "cell_type": "code",
      "source": [
        "# Pintemos una muestra de las las imagenes del dataset MNIST\n",
        "\n",
        "print('Train: X=%s, y=%s' % (x_train.shape, y_train.shape))\n",
        "print('Test: X=%s, y=%s' % (x_test.shape, y_test.shape))\n",
        "\n",
        "for i in range(9):\n",
        "\n",
        "    plt.subplot(330 + 1 + i)\n",
        "    plt.imshow(x_train[i], cmap=plt.get_cmap('gray'))\n",
        "    plt.title(cifar10_labels[y_train_label[i,0]])\n",
        "\n",
        "plt.subplots_adjust(hspace = 1)\n",
        "plt.show()"
      ],
      "metadata": {
        "id": "9-Dk8dgQ9oJs",
        "execution": {
          "iopub.status.busy": "2022-05-06T08:41:15.958151Z",
          "iopub.execute_input": "2022-05-06T08:41:15.958658Z",
          "iopub.status.idle": "2022-05-06T08:41:16.551032Z",
          "shell.execute_reply.started": "2022-05-06T08:41:15.958615Z",
          "shell.execute_reply": "2022-05-06T08:41:16.550367Z"
        },
        "trusted": true
      },
      "execution_count": null,
      "outputs": []
    },
    {
      "cell_type": "markdown",
      "source": [
        "Como vamos a querer ir haciendo validación a la vez que entrenamos (muy practico)"
      ],
      "metadata": {
        "id": "WRm5syYA9oJt"
      }
    },
    {
      "cell_type": "code",
      "source": [
        "x_val_scaled = x_train_scaled[-10000:]\n",
        "y_val = y_train[-10000:]\n",
        "\n",
        "x_train_scaled = x_train_scaled[:-10000]\n",
        "y_train = y_train[:-10000]\n"
      ],
      "metadata": {
        "id": "ll_ESZXN9oJt",
        "execution": {
          "iopub.status.busy": "2022-05-06T08:41:16.552378Z",
          "iopub.execute_input": "2022-05-06T08:41:16.552833Z",
          "iopub.status.idle": "2022-05-06T08:41:16.559960Z",
          "shell.execute_reply.started": "2022-05-06T08:41:16.552796Z",
          "shell.execute_reply": "2022-05-06T08:41:16.559274Z"
        },
        "trusted": true
      },
      "execution_count": null,
      "outputs": []
    },
    {
      "cell_type": "markdown",
      "source": [
        "Cuando añadimos convoluciones, necesitamos \"pre-tratar los datos\", porque **la convolución espera una matriz de 4 campos** (más parecido a \"imagenes\"), en el caso de MNIST. CIFAR10 ya tiene el shape adecuado, así que no tenemos que hacer nada, pero como siempre decimos: es mejor que comprobeis su tamaño.\n",
        "\n",
        "Por eso, al salir de la Convolution, hay que hacer un Flatten, porque las capas FullDense esperan arrays, no matrices!!\n",
        "\n",
        "Luego lo imprimimos para ver que todo está correcto"
      ],
      "metadata": {
        "id": "857gyhgz9oJt"
      }
    },
    {
      "cell_type": "code",
      "source": [
        "# Validamos el resultado\n",
        "print('Train: X=%s, y=%s' % (x_train_scaled.shape, y_train.shape))\n",
        "print('Test: X=%s, y=%s' % (x_test_scaled.shape, y_test.shape))\n",
        "print('Validation: X=%s, y=%s' % (x_val_scaled.shape, y_val.shape))"
      ],
      "metadata": {
        "id": "GsD9N7Jf9oJt",
        "execution": {
          "iopub.status.busy": "2022-05-06T08:41:16.562625Z",
          "iopub.execute_input": "2022-05-06T08:41:16.562870Z",
          "iopub.status.idle": "2022-05-06T08:41:16.570942Z",
          "shell.execute_reply.started": "2022-05-06T08:41:16.562837Z",
          "shell.execute_reply": "2022-05-06T08:41:16.570173Z"
        },
        "trusted": true
      },
      "execution_count": null,
      "outputs": []
    },
    {
      "cell_type": "markdown",
      "source": [
        "## 5. Entrenamiento\n",
        "\n",
        "Ya podemos ponernos a entrenar el modelo!! Ojo, que hemos de entrenar contra los datos convertidos al formato que espera la Convolution.\n",
        "\n",
        "Empezaremos con 30 epocs, es decir, 30 pasadas completas del dataset (que a su vez sera con mini-batches internamente), fijando un batch de 64\n",
        "\n",
        "El metodo .fit() nos permite, definir además si disponemos de varias CPUs, GPUs, y si queremos ir validando datos a cada fin de epoch."
      ],
      "metadata": {
        "id": "x4CSQVcD9oJu"
      }
    },
    {
      "cell_type": "code",
      "source": [
        "from tensorflow.keras.callbacks import EarlyStopping\n",
        "\n",
        "# Callbacks\n",
        "callback_accuracy = EarlyStopping(monitor='val_accuracy', patience = 10)"
      ],
      "metadata": {
        "id": "pZl4L8G0_NlB",
        "execution": {
          "iopub.status.busy": "2022-05-06T08:41:16.572235Z",
          "iopub.execute_input": "2022-05-06T08:41:16.572747Z",
          "iopub.status.idle": "2022-05-06T08:41:16.579210Z",
          "shell.execute_reply.started": "2022-05-06T08:41:16.572651Z",
          "shell.execute_reply": "2022-05-06T08:41:16.578553Z"
        },
        "trusted": true
      },
      "execution_count": null,
      "outputs": []
    },
    {
      "cell_type": "code",
      "source": [
        "t = time.perf_counter()"
      ],
      "metadata": {
        "id": "WVDxMUFK9oJu",
        "execution": {
          "iopub.status.busy": "2022-05-06T08:41:16.582119Z",
          "iopub.execute_input": "2022-05-06T08:41:16.582598Z",
          "iopub.status.idle": "2022-05-06T08:41:16.588000Z",
          "shell.execute_reply.started": "2022-05-06T08:41:16.582563Z",
          "shell.execute_reply": "2022-05-06T08:41:16.587219Z"
        },
        "trusted": true
      },
      "execution_count": null,
      "outputs": []
    },
    {
      "cell_type": "code",
      "source": [
        "history = model.fit( x_train_scaled, y_train, epochs=100, \n",
        "                    use_multiprocessing=True, batch_size= 512,callbacks=[callback_accuracy],\n",
        "                    validation_data=(x_val_scaled, y_val))"
      ],
      "metadata": {
        "id": "ecp-nOVj9oJu",
        "execution": {
          "iopub.status.busy": "2022-05-06T08:41:16.589448Z",
          "iopub.execute_input": "2022-05-06T08:41:16.589966Z",
          "iopub.status.idle": "2022-05-06T08:46:30.345243Z",
          "shell.execute_reply.started": "2022-05-06T08:41:16.589931Z",
          "shell.execute_reply": "2022-05-06T08:46:30.344557Z"
        },
        "trusted": true
      },
      "execution_count": null,
      "outputs": []
    },
    {
      "cell_type": "code",
      "source": [
        "elapsed_time = datetime.timedelta(seconds=(time.perf_counter() - t))\n",
        "\n",
        "print('Tiempo de entrenamiento:', elapsed_time)"
      ],
      "metadata": {
        "id": "OPFPUNcJ9oJu",
        "execution": {
          "iopub.status.busy": "2022-05-06T08:46:30.350013Z",
          "iopub.execute_input": "2022-05-06T08:46:30.350219Z",
          "iopub.status.idle": "2022-05-06T08:46:30.356129Z",
          "shell.execute_reply.started": "2022-05-06T08:46:30.350193Z",
          "shell.execute_reply": "2022-05-06T08:46:30.354601Z"
        },
        "trusted": true
      },
      "execution_count": null,
      "outputs": []
    },
    {
      "cell_type": "markdown",
      "source": [
        "## 6. Evaluamos los resultados\n",
        "\n",
        "Obtengamos una grafica de como el error y la accuracy van evolucionando en cada epoch en los datos de entrenamiento y en la validación"
      ],
      "metadata": {
        "id": "n6Byf3JG9oJu"
      }
    },
    {
      "cell_type": "code",
      "source": [
        "_, acc = model.evaluate(x_test_scaled, y_test, verbose=0)\n",
        "print('> %.3f' % (acc * 100.0))"
      ],
      "metadata": {
        "id": "j9IaZ3-W9oJv",
        "execution": {
          "iopub.status.busy": "2022-05-06T08:46:30.357298Z",
          "iopub.execute_input": "2022-05-06T08:46:30.358160Z",
          "iopub.status.idle": "2022-05-06T08:46:31.409648Z",
          "shell.execute_reply.started": "2022-05-06T08:46:30.358121Z",
          "shell.execute_reply": "2022-05-06T08:46:31.408895Z"
        },
        "trusted": true
      },
      "execution_count": null,
      "outputs": []
    },
    {
      "cell_type": "code",
      "source": [
        "plt.title('Cross Entropy Loss')\n",
        "plt.plot(history.history['loss'], color='blue', label='train')\n",
        "plt.plot(history.history['val_loss'], color='orange', label='val')\n",
        "plt.legend()\n",
        "plt.show()\n",
        "\n",
        "plt.title('Classification Accuracy')\n",
        "plt.plot(history.history['accuracy'], color='blue', label='train')\n",
        "plt.plot(history.history['val_accuracy'], color='orange', label='val')\n",
        "plt.legend()\n",
        "plt.show()"
      ],
      "metadata": {
        "id": "GrH8OFmF9oJv",
        "execution": {
          "iopub.status.busy": "2022-05-06T08:46:31.412015Z",
          "iopub.execute_input": "2022-05-06T08:46:31.412279Z",
          "iopub.status.idle": "2022-05-06T08:46:31.757780Z",
          "shell.execute_reply.started": "2022-05-06T08:46:31.412250Z",
          "shell.execute_reply": "2022-05-06T08:46:31.757105Z"
        },
        "trusted": true
      },
      "execution_count": null,
      "outputs": []
    },
    {
      "cell_type": "markdown",
      "source": [
        "El coste podemos ver que es estable y es en el epoch 15 que se fija en un valor. Además la accuracy baila alrededor de 0.10. No se puede decir que sea un modelo muy bueno.\n",
        "\n",
        "Veamos que tipo de predicciones estoy obteniendo sobre el conjunto de test (vamos a pintar las imagenes y sus clasificaciones)"
      ],
      "metadata": {
        "id": "BT7Xpz409oJv"
      }
    },
    {
      "cell_type": "code",
      "source": [
        "predictions = model.predict(x_test)"
      ],
      "metadata": {
        "id": "G4gqi32X9oJw",
        "execution": {
          "iopub.status.busy": "2022-05-06T08:46:31.759075Z",
          "iopub.execute_input": "2022-05-06T08:46:31.759316Z",
          "iopub.status.idle": "2022-05-06T08:46:32.582398Z",
          "shell.execute_reply.started": "2022-05-06T08:46:31.759283Z",
          "shell.execute_reply": "2022-05-06T08:46:32.581587Z"
        },
        "trusted": true
      },
      "execution_count": null,
      "outputs": []
    },
    {
      "cell_type": "markdown",
      "source": [
        "Una de las ventajas de Python es que hay montones de funciones y código realizado por terceras personas. Aquí me he fusilado unas bonitas funciones (que he adaptado un poco a mis necesidades) para poder pintar las imagenes, su label (ground truth) y las clasificaciones que hemos realizado."
      ],
      "metadata": {
        "id": "3blmpM1k9oJw"
      }
    },
    {
      "cell_type": "code",
      "source": [
        "def plot_image(i, predictions_array, true_label, img):\n",
        "  predictions_array, true_label, img = predictions_array, true_label[i], img[i]\n",
        "  plt.grid(False)\n",
        "  plt.xticks([])\n",
        "  plt.yticks([])\n",
        "\n",
        "  plt.imshow(img, cmap=plt.cm.binary)\n",
        "\n",
        "  predicted_label = np.argmax(predictions_array)\n",
        "  if predicted_label == true_label:\n",
        "    color = 'blue'\n",
        "  else:\n",
        "    color = 'red'\n",
        "\n",
        "  plt.xlabel(\"{} {:2.0f}% ({})\".format(predicted_label,\n",
        "                                100*np.max(predictions_array),\n",
        "                                true_label[0]),\n",
        "                                color=color)\n",
        "\n",
        "def plot_value_array(i, predictions_array, true_label):\n",
        "  predictions_array, true_label = predictions_array, true_label[i]\n",
        "  plt.grid(False)\n",
        "  plt.xticks(range(10))\n",
        "  plt.yticks([])\n",
        "  thisplot = plt.bar(range(10), predictions_array, color=\"#777777\")\n",
        "  plt.ylim([0, 1])\n",
        "  predicted_label = np.argmax(predictions_array)\n",
        "\n",
        "  thisplot[predicted_label].set_color('red')\n",
        "  thisplot[true_label[0]].set_color('blue')"
      ],
      "metadata": {
        "id": "P02wctIA9oJw",
        "execution": {
          "iopub.status.busy": "2022-05-06T08:46:32.587261Z",
          "iopub.execute_input": "2022-05-06T08:46:32.589469Z",
          "iopub.status.idle": "2022-05-06T08:46:32.603837Z",
          "shell.execute_reply.started": "2022-05-06T08:46:32.589426Z",
          "shell.execute_reply": "2022-05-06T08:46:32.603089Z"
        },
        "trusted": true
      },
      "execution_count": null,
      "outputs": []
    },
    {
      "cell_type": "markdown",
      "source": [
        "Dibujamos las primeras imagenes, con las predicciones y sus valores reales (un total de 20 imagenes, para no abusar de vuestros laptops)\n",
        "\n",
        "Coloreamos las prediciones correctas en azul y los fallos en rojo. Aunque primero he impreso las etiquetas para que tengamos una referencia al grafico."
      ],
      "metadata": {
        "id": "kCoAXQ6e9oJw"
      }
    },
    {
      "cell_type": "code",
      "source": [
        "i = 0\n",
        "for l in cifar10_labels:\n",
        "    print(i, l)\n",
        "    i += 1\n",
        "\n",
        "num_rows = 5\n",
        "num_cols = 4\n",
        "start = 650\n",
        "num_images = num_rows*num_cols\n",
        "plt.figure(figsize=(2*2*num_cols, 2*num_rows))\n",
        "for i in range(num_images):\n",
        "  plt.subplot(num_rows, 2*num_cols, 2*i+1)\n",
        "  plot_image(i+start, predictions[i+start], y_test, x_test)\n",
        "  plt.subplot(num_rows, 2*num_cols, 2*i+2)\n",
        "  plot_value_array(i+start, predictions[i+start], y_test)\n",
        "plt.tight_layout()\n",
        "plt.show()"
      ],
      "metadata": {
        "id": "4jcGyOkV9oJx",
        "execution": {
          "iopub.status.busy": "2022-05-06T08:46:32.608679Z",
          "iopub.execute_input": "2022-05-06T08:46:32.611324Z",
          "iopub.status.idle": "2022-05-06T08:46:35.376999Z",
          "shell.execute_reply.started": "2022-05-06T08:46:32.611286Z",
          "shell.execute_reply": "2022-05-06T08:46:35.376317Z"
        },
        "trusted": true
      },
      "execution_count": null,
      "outputs": []
    },
    {
      "cell_type": "markdown",
      "source": [
        "## 7. Guardamos el modelo para futuras evaluaciones\n",
        "\n",
        "Id cambiando los nombres del archivo para ir guardando los diversos proyectos.\n",
        "Aquí lo guardamos en \"local\", pero recordad que lo ideal es que lo guardeis en Google Drive (teneis que montar la unidad, fijar la ruta y allí guardar el modelo .h5)"
      ],
      "metadata": {
        "id": "qWT3tPd2-MOP"
      }
    },
    {
      "cell_type": "code",
      "source": [
        ""
      ],
      "metadata": {
        "id": "wEaRpWif9oJx",
        "trusted": true
      },
      "execution_count": null,
      "outputs": []
    }
  ]
}